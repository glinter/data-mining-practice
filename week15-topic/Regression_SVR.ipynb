{
 "cells": [
  {
   "cell_type": "code",
   "execution_count": null,
   "metadata": {},
   "outputs": [],
   "source": [
    "import numpy as np\n",
    "import matplotlib.pyplot as plt\n",
    "from sklearn.svm import SVR\n",
    "from sklearn.model_selection import train_test_split\n",
    "from sklearn.metrics import mean_absolute_error\n",
    "\n",
    "np.set_printoptions(suppress=True) # 숫자 프린팅 옵션 설정\n",
    "\n",
    "data = np.loadtxt(\"house_prices.txt\",delimiter=\",\")"
   ]
  },
  {
   "cell_type": "code",
   "execution_count": null,
   "metadata": {},
   "outputs": [],
   "source": [
    "# 데이터셋을 X와 Y로 분리\n",
    "X = data[:,:2]  # 모든 행, 첫 열(index 0인 열)부터 index 2인 열 직전까지\n",
    "Y = data[:,-1] # 모든 행, 마지막 열 => Y = data[:,2] 이것과 동일"
   ]
  },
  {
   "cell_type": "code",
   "execution_count": null,
   "metadata": {},
   "outputs": [],
   "source": [
    "# 데이터를 학습 데이터와 테스트 데이터로 분리\n",
    "# [option] test_size: 테스트 데이터 비중, random_state: (아무)숫자를 입력하여 랜덤으로 선택되는 데이터 고정\n",
    "X_train, X_test, Y_train, Y_test = train_test_split(X, Y, test_size = 0.2, random_state = 4)"
   ]
  },
  {
   "cell_type": "code",
   "execution_count": null,
   "metadata": {},
   "outputs": [],
   "source": [
    "# SVR 모델 선언\n",
    "model = SVR(kernel='rbf')\n",
    "\n",
    "# 모델 학습\n",
    "model.fit(X_train, Y_train)"
   ]
  },
  {
   "cell_type": "code",
   "execution_count": null,
   "metadata": {},
   "outputs": [],
   "source": [
    "# 테스트 데이터를 모델에 넣어 결과 예측\n",
    "result = model.predict(X_test)"
   ]
  },
  {
   "cell_type": "code",
   "execution_count": null,
   "metadata": {},
   "outputs": [],
   "source": [
    "print(X_test)"
   ]
  },
  {
   "cell_type": "code",
   "execution_count": null,
   "metadata": {},
   "outputs": [],
   "source": [
    "result"
   ]
  },
  {
   "cell_type": "code",
   "execution_count": null,
   "metadata": {},
   "outputs": [],
   "source": [
    "# 실제 가격과 예측한 가격 비교\n",
    "print(np.column_stack((X_test, Y_test, result)))\n"
   ]
  },
  {
   "cell_type": "code",
   "execution_count": null,
   "metadata": {},
   "outputs": [],
   "source": [
    "mae = mean_absolute_error(Y_test, result)\n",
    "print(mae)"
   ]
  },
  {
   "cell_type": "code",
   "execution_count": null,
   "metadata": {},
   "outputs": [],
   "source": [
    "# 실제 가격과 예측한 가격 plot - X 데이터 중 집크기가 x축, 가격이 y축\n",
    "real = plt.scatter(X_test[:,0], Y_test,  color='red')   # 실제 가격\n",
    "predict = plt.scatter(X_test[:,0], result, color='blue')  # 예측한 가격\n",
    "plt.legend((real, predict), ('real', 'prediction'))\n",
    "plt.title('Real price vs. Predicted price')\n",
    "plt.ylabel('Price')\n",
    "plt.xlabel('House size')\n",
    "plt.show()"
   ]
  },
  {
   "cell_type": "code",
   "execution_count": null,
   "metadata": {
    "scrolled": true
   },
   "outputs": [],
   "source": [
    "# 학습된 선형 모델 plot\n",
    "plt.plot([min(X_train[:,0]), max(X_train[:,0]) ], \n",
    "         [min(model.predict(X_train)), max(model.predict(X_train))])\n",
    "# 예측한 결과 plot\n",
    "plt.scatter(X_test[:,0], Y_test,  color='red')   # 실제 결과\n",
    "plt.scatter(X_test[:,0], result, color='blue')  # 예측한 결과\n",
    "plt.show()"
   ]
  },
  {
   "cell_type": "code",
   "execution_count": null,
   "metadata": {},
   "outputs": [],
   "source": []
  }
 ],
 "metadata": {
  "kernelspec": {
   "display_name": "Python 3",
   "language": "python",
   "name": "python3"
  },
  "language_info": {
   "codemirror_mode": {
    "name": "ipython",
    "version": 3
   },
   "file_extension": ".py",
   "mimetype": "text/x-python",
   "name": "python",
   "nbconvert_exporter": "python",
   "pygments_lexer": "ipython3",
   "version": "3.7.7"
  }
 },
 "nbformat": 4,
 "nbformat_minor": 4
}
