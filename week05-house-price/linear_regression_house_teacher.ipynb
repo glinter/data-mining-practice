{
 "cells": [
  {
   "cell_type": "code",
   "execution_count": null,
   "metadata": {
    "collapsed": true
   },
   "outputs": [],
   "source": [
    "import numpy as np\n",
    "import matplotlib.pyplot as plt\n",
    "from sklearn import linear_model\n",
    "from sklearn.model_selection import train_test_split\n",
    "\n",
    "'''여기 코드 작성'''"
   ]
  },
  {
   "cell_type": "code",
   "execution_count": null,
   "metadata": {
    "collapsed": true
   },
   "outputs": [],
   "source": [
    "# 데이터 확인\n",
    "'''여기 코드 작성'''"
   ]
  },
  {
   "cell_type": "code",
   "execution_count": null,
   "metadata": {
    "collapsed": true
   },
   "outputs": [],
   "source": [
    "# 데이터 일부 확인 (5개 행, 모든열)\n",
    "'''여기 코드 작성'''"
   ]
  },
  {
   "cell_type": "code",
   "execution_count": null,
   "metadata": {
    "collapsed": true
   },
   "outputs": [],
   "source": [
    "# 데이터셋을 X와 Y로 분리\n",
    "'''여기 코드 작성'''"
   ]
  },
  {
   "cell_type": "code",
   "execution_count": null,
   "metadata": {
    "collapsed": true
   },
   "outputs": [],
   "source": [
    "# 데이터를 학습 데이터와 테스트 데이터로 분리\n",
    "# [option] test_size: 테스트 데이터 비중, random_state: (아무)숫자를 입력하여 랜덤으로 선택되는 데이터 고정\n",
    "'''여기 코드 작성'''"
   ]
  },
  {
   "cell_type": "code",
   "execution_count": null,
   "metadata": {
    "collapsed": true
   },
   "outputs": [],
   "source": [
    "# 학습 데이터를 그래프에 표시\n",
    "'''여기 코드 작성'''\n",
    "# 테스트 데이터를 그래프에 표시\n",
    "'''여기 코드 작성'''"
   ]
  },
  {
   "cell_type": "code",
   "execution_count": null,
   "metadata": {
    "collapsed": true
   },
   "outputs": [],
   "source": [
    "# 선형회귀 모델 선언\n",
    "'''여기 코드 작성'''\n",
    "\n",
    "# 모델 학습\n",
    "'''여기 코드 작성'''"
   ]
  },
  {
   "cell_type": "code",
   "execution_count": null,
   "metadata": {
    "collapsed": true
   },
   "outputs": [],
   "source": [
    "# 테스트 데이터를 모델에 넣어 결과 예측\n",
    "'''여기 코드 작성'''"
   ]
  },
  {
   "cell_type": "code",
   "execution_count": null,
   "metadata": {
    "collapsed": true
   },
   "outputs": [],
   "source": [
    "# 실제 가격과 예측한 가격 비교\n",
    "'''여기 코드 작성'''"
   ]
  },
  {
   "cell_type": "code",
   "execution_count": null,
   "metadata": {
    "collapsed": true
   },
   "outputs": [],
   "source": [
    "# 실제 가격과 예측한 가격 plot - X 데이터 중 집크기가 x축, 가격이 y축\n",
    "'''여기 코드 작성'''\n",
    "plt.title('Real price vs. Predicted price')\n",
    "plt.ylabel('Price')\n",
    "plt.xlabel('House size')\n",
    "plt.show()"
   ]
  },
  {
   "cell_type": "code",
   "execution_count": null,
   "metadata": {
    "collapsed": true
   },
   "outputs": [],
   "source": [
    "# 학습된 선형 모델 plot\n",
    "'''여기 코드 작성'''\n",
    "# 예측한 결과 plot\n",
    "'''여기 코드 작성'''  # 실제 결과\n",
    "'''여기 코드 작성'''  # 예측한 결과\n"
   ]
  }
 ],
 "metadata": {
  "kernelspec": {
   "display_name": "Python 3",
   "language": "python",
   "name": "python3"
  },
  "language_info": {
   "codemirror_mode": {
    "name": "ipython",
    "version": 3
   },
   "file_extension": ".py",
   "mimetype": "text/x-python",
   "name": "python",
   "nbconvert_exporter": "python",
   "pygments_lexer": "ipython3",
   "version": "3.6.5"
  }
 },
 "nbformat": 4,
 "nbformat_minor": 2
}
