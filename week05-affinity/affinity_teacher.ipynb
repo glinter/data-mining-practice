{
 "cells": [
  {
   "cell_type": "code",
   "execution_count": 2,
   "metadata": {},
   "outputs": [],
   "source": [
    "# 외부 패키지인 numpy 불러옴 (np라는 이름으로 불러옴)\n",
    "import numpy as np"
   ]
  },
  {
   "cell_type": "code",
   "execution_count": 3,
   "metadata": {},
   "outputs": [
    {
     "name": "stdout",
     "output_type": "stream",
     "text": [
      "This dataset has 100 samples and 5 features\n",
      "[[0. 1. 0. 0. 0.]\n",
      " [1. 1. 0. 0. 0.]\n",
      " [0. 0. 1. 0. 1.]\n",
      " [1. 1. 0. 0. 0.]\n",
      " [0. 0. 1. 1. 1.]]\n"
     ]
    }
   ],
   "source": [
    "# 패턴을 찾기 위한 대상 데이터 로딩 (numpy의 loadtxt 함수 호출)\n",
    "dataset_filename = \"affinity_dataset.txt\"\n",
    "x = np.loadtxt(dataset_filename)\n",
    "n_samples, n_features = x.shape\n",
    "print('This dataset has {0} samples and {1} features'.format(n_samples, n_features))\n",
    "print(x[:5])"
   ]
  },
  {
   "cell_type": "code",
   "execution_count": 7,
   "metadata": {},
   "outputs": [],
   "source": [
    "# 속성의 이름을 정해줌 (txt 데이터에는 속성 이름이 없으므로 임의로 정해줌)\n",
    "features = [\"bread\", \"milk\", \"cheese\", \"apples\", \"bananas\"]"
   ]
  },
  {
   "cell_type": "code",
   "execution_count": 13,
   "metadata": {},
   "outputs": [
    {
     "name": "stdout",
     "output_type": "stream",
     "text": [
      "[[0. 1. 0. 0. 0.]\n",
      " [1. 1. 0. 0. 0.]\n",
      " [0. 0. 1. 0. 1.]\n",
      " [1. 1. 0. 0. 0.]\n",
      " [0. 0. 1. 1. 1.]\n",
      " [0. 1. 0. 0. 0.]\n",
      " [0. 0. 1. 1. 1.]]\n"
     ]
    }
   ],
   "source": [
    "# 7개의 행까지 프린트, 각각의 행은 샘플 하나에 해당함\n",
    "# X는 길이가 100인 배열이며, 배열의 각 요소는 다시 길이가 5인 배열\n",
    "# 콜론(:)의 의미는 처음부터 콜론 뒤에 있는 숫자까지라는 뜻\n",
    "# 따라서 X[:7]는 배열의 첫번째 요소부터 7번째 요소까지를 의미\n",
    "# index로는 0에서부터 6까지 포함\n",
    "# 이 배열의 각 요소는 길이가 5인 배열이므로 아래와 같이 프린팅 됨\n",
    "\n",
    "print(x[:7])"
   ]
  },
  {
   "cell_type": "code",
   "execution_count": 9,
   "metadata": {
    "scrolled": false
   },
   "outputs": [
    {
     "name": "stdout",
     "output_type": "stream",
     "text": [
      "[[0. 1. 0.]\n",
      " [1. 1. 0.]\n",
      " [0. 0. 1.]\n",
      " [1. 1. 0.]\n",
      " [0. 0. 1.]\n",
      " [0. 1. 0.]\n",
      " [0. 0. 1.]]\n"
     ]
    }
   ],
   "source": [
    "# 7개의 행과 3개의 열(속성)을 프린트\n",
    "# 행과 열의 범위를 주어 접근\n",
    "# 행은 콤마(,) 앞에 위치하고 열은 뒤에 위치\n",
    "\n",
    "print(x[:7, :3])"
   ]
  },
  {
   "cell_type": "code",
   "execution_count": 18,
   "metadata": {},
   "outputs": [
    {
     "name": "stdout",
     "output_type": "stream",
     "text": [
      "[1. 1. 0. 0. 0.]\n"
     ]
    }
   ],
   "source": [
    "# 하나의 샘플만 프린트할 경우 - 두번째 사람이 구매 이력\n",
    "print(x[1])"
   ]
  },
  {
   "cell_type": "code",
   "execution_count": 15,
   "metadata": {},
   "outputs": [
    {
     "name": "stdout",
     "output_type": "stream",
     "text": [
      "0.0\n"
     ]
    }
   ],
   "source": [
    "# 하나의 샘플의 특정 상품 구매여부만 프린트할 경우\n",
    "# 세번째 사람이 네번째 상품인 사과 구매 여부\n",
    "print(x[2][3])"
   ]
  },
  {
   "cell_type": "code",
   "execution_count": 17,
   "metadata": {},
   "outputs": [
    {
     "name": "stdout",
     "output_type": "stream",
     "text": [
      "[0. 1. 0. 0. 0.] 0.0\n",
      "[1. 1. 0. 0. 0.] 0.0\n",
      "[0. 0. 1. 0. 1.] 0.0\n",
      "[1. 1. 0. 0. 0.] 0.0\n",
      "[0. 0. 1. 1. 1.] 1.0\n",
      "[0. 1. 0. 0. 0.] 0.0\n",
      "[0. 0. 1. 1. 1.] 1.0\n",
      "[0. 0. 1. 1. 0.] 1.0\n",
      "[0. 1. 0. 1. 0.] 1.0\n",
      "[0. 1. 0. 0. 1.] 0.0\n",
      "[0. 0. 0. 1. 0.] 1.0\n",
      "[1. 0. 1. 0. 0.] 0.0\n",
      "[1. 0. 0. 0. 1.] 0.0\n",
      "[0. 1. 1. 0. 0.] 0.0\n",
      "[0. 0. 1. 0. 1.] 0.0\n",
      "[0. 1. 0. 1. 0.] 1.0\n",
      "[1. 1. 0. 1. 1.] 1.0\n",
      "[0. 0. 0. 1. 1.] 1.0\n",
      "[0. 1. 0. 0. 1.] 0.0\n",
      "[1. 1. 0. 1. 0.] 1.0\n",
      "[0. 1. 1. 0. 0.] 0.0\n",
      "[0. 1. 0. 0. 1.] 0.0\n",
      "[0. 0. 1. 0. 0.] 0.0\n",
      "[1. 0. 0. 0. 1.] 0.0\n",
      "[0. 1. 0. 1. 0.] 1.0\n",
      "[1. 0. 0. 1. 1.] 1.0\n",
      "[0. 1. 1. 0. 0.] 0.0\n",
      "[0. 1. 0. 0. 1.] 0.0\n",
      "[0. 0. 0. 0. 1.] 0.0\n",
      "[1. 0. 0. 0. 1.] 0.0\n",
      "[0. 1. 0. 1. 1.] 1.0\n",
      "[1. 0. 0. 0. 0.] 0.0\n",
      "[0. 1. 0. 0. 0.] 0.0\n",
      "[1. 0. 0. 0. 0.] 0.0\n",
      "[0. 0. 1. 1. 1.] 1.0\n",
      "[0. 0. 1. 1. 1.] 1.0\n",
      "[0. 0. 1. 1. 1.] 1.0\n",
      "[1. 0. 0. 1. 0.] 1.0\n",
      "[0. 1. 0. 0. 1.] 0.0\n",
      "[1. 1. 0. 0. 0.] 0.0\n",
      "[0. 0. 0. 0. 1.] 0.0\n",
      "[0. 1. 0. 1. 1.] 1.0\n",
      "[0. 1. 0. 1. 0.] 1.0\n",
      "[0. 1. 0. 0. 1.] 0.0\n",
      "[1. 1. 1. 1. 0.] 1.0\n",
      "[1. 0. 0. 0. 1.] 0.0\n",
      "[0. 0. 0. 1. 1.] 1.0\n",
      "[1. 1. 0. 0. 1.] 0.0\n",
      "[0. 1. 0. 0. 0.] 0.0\n",
      "[0. 1. 1. 0. 0.] 0.0\n",
      "[0. 1. 0. 1. 1.] 1.0\n",
      "[0. 1. 0. 0. 1.] 0.0\n",
      "[0. 0. 1. 1. 1.] 1.0\n",
      "[0. 0. 0. 1. 1.] 1.0\n",
      "[0. 0. 1. 0. 0.] 0.0\n",
      "[0. 0. 1. 1. 1.] 1.0\n",
      "[1. 0. 0. 0. 0.] 0.0\n",
      "[1. 1. 1. 0. 1.] 0.0\n",
      "[0. 0. 1. 1. 1.] 1.0\n",
      "[0. 1. 0. 0. 0.] 0.0\n",
      "[0. 0. 1. 1. 0.] 1.0\n",
      "[0. 1. 0. 0. 1.] 0.0\n",
      "[0. 0. 1. 0. 0.] 0.0\n",
      "[0. 1. 0. 0. 0.] 0.0\n",
      "[1. 0. 0. 0. 1.] 0.0\n",
      "[0. 1. 0. 0. 0.] 0.0\n",
      "[0. 1. 1. 0. 1.] 0.0\n",
      "[0. 0. 1. 0. 0.] 0.0\n",
      "[0. 0. 1. 0. 0.] 0.0\n",
      "[0. 0. 0. 1. 1.] 1.0\n",
      "[0. 0. 1. 0. 0.] 0.0\n",
      "[0. 0. 1. 1. 0.] 1.0\n",
      "[0. 1. 0. 0. 0.] 0.0\n",
      "[0. 1. 1. 1. 1.] 1.0\n",
      "[1. 1. 0. 0. 1.] 0.0\n",
      "[0. 0. 1. 1. 0.] 1.0\n",
      "[0. 0. 1. 1. 0.] 1.0\n",
      "[0. 0. 1. 1. 1.] 1.0\n",
      "[0. 0. 1. 1. 1.] 1.0\n",
      "[0. 1. 0. 0. 0.] 0.0\n",
      "[0. 1. 0. 1. 0.] 1.0\n",
      "[1. 1. 0. 0. 1.] 0.0\n",
      "[0. 1. 0. 0. 1.] 0.0\n",
      "[0. 0. 1. 1. 1.] 1.0\n",
      "[0. 1. 0. 0. 1.] 0.0\n",
      "[0. 1. 0. 1. 1.] 1.0\n",
      "[0. 1. 0. 0. 1.] 0.0\n",
      "[1. 0. 0. 0. 0.] 0.0\n",
      "[1. 0. 0. 1. 1.] 1.0\n",
      "[0. 1. 1. 1. 1.] 1.0\n",
      "[1. 0. 0. 0. 1.] 0.0\n",
      "[0. 0. 1. 0. 1.] 0.0\n",
      "[0. 1. 1. 1. 0.] 1.0\n",
      "[1. 1. 0. 1. 1.] 1.0\n",
      "[1. 0. 1. 0. 1.] 0.0\n",
      "[0. 0. 1. 1. 1.] 1.0\n",
      "[1. 1. 1. 1. 0.] 1.0\n",
      "[0. 1. 0. 0. 1.] 0.0\n",
      "[0. 1. 0. 0. 1.] 0.0\n",
      "[1. 1. 0. 1. 1.] 1.0\n"
     ]
    }
   ],
   "source": [
    "# 각각의 행을 읽으면서 그 행을 프린트하고\n",
    "# 바로 옆에 그 사람의 사과 구매 여부를 프린트\n",
    "# for 문을 돌리면서 X에 있는 요소가 순서대로 sample에 카피됨\n",
    "for sample in x:\n",
    "    print('{0} {1}'.format(sample, sample[3]))"
   ]
  },
  {
   "cell_type": "code",
   "execution_count": 19,
   "metadata": {},
   "outputs": [
    {
     "name": "stdout",
     "output_type": "stream",
     "text": [
      "43 people bought Apples\n"
     ]
    }
   ],
   "source": [
    "# 사과를 구입한 사람의 수를 카운팅\n",
    "# for문을 돌리며 X에 있는 요소들을 하나씩 sample에 복사하여 체크\n",
    "\n",
    "APPLE_INDEX = 3\n",
    "num_apple_purchases = 0\n",
    "for sample in x:# 중요2\n",
    "    if sample[APPLE_INDEX] == 1:\n",
    "        num_apple_purchases += 1\n",
    "print(\"{0} people bought Apples\".format(num_apple_purchases))"
   ]
  },
  {
   "cell_type": "code",
   "execution_count": 21,
   "metadata": {},
   "outputs": [
    {
     "name": "stdout",
     "output_type": "stream",
     "text": [
      "27 cases of the rule being valid were discovered\n",
      "16 cases of the rule being invalid were discovered\n"
     ]
    }
   ],
   "source": [
    "# 사과를 산 사람이 바나나도 산 경우가 얼마나 많은가?\n",
    "# 규칙이 유효한 경우와 그렇지 않은 경우 모두 기록\n",
    "# 유효한 경우는 사과를 산 사람 중에서 바나나도 산 사람의 수 (교집합)\n",
    "# 비유효한 경우는 사과를 산 사람 중에서 바나나는 사지 않은 사람의 수 (차집합)\n",
    "rule_valid = 0\n",
    "rule_invalid = 0\n",
    "for sample in x:\n",
    "    if sample[3] == 1: # This person bought Apples\n",
    "        if sample[4] == 1: # This person bought Apples and Bananas\n",
    "            rule_valid += 1\n",
    "        else: # This person bought Apples, but not Bananas\n",
    "            rule_invalid += 1\n",
    "print(\"{0} cases of the rule being valid were discovered\".format(rule_valid))\n",
    "print(\"{0} cases of the rule being invalid were discovered\".format(rule_invalid))"
   ]
  },
  {
   "cell_type": "code",
   "execution_count": 28,
   "metadata": {},
   "outputs": [
    {
     "name": "stdout",
     "output_type": "stream",
     "text": [
      "The support is 27 and the confidence is 0.628.\n",
      "The support is 27 and the confidence is 0.627906976744186.\n",
      "As a percentage, that is 62.8%.\n"
     ]
    }
   ],
   "source": [
    "# 지지도(Support)와 신뢰도(Confidence)를 계산하기 위한 정보가 모두 존재하므로 계산\n",
    "# 사과를 사면(전제) -> 바나나를 산다(결론)\n",
    "support = rule_valid  # 이 규칙이 발견된 횟수\n",
    "confidence = rule_valid / float(num_apple_purchases) # (이 규칙이 발견된 횟수)/(전제에 해당하는 샘플의 개수)\n",
    "\n",
    "# 프린트 시에 숫자 포맷을 지정하여 프린트할 수 있음\n",
    "print(\"The support is {0} and the confidence is {1:.3f}.\".format(support, confidence))\n",
    "print(\"The support is {0} and the confidence is {1}.\".format(support, confidence))\n",
    "print('As a percentage, that is {0:.1f}%.'.format(100*confidence))"
   ]
  },
  {
   "cell_type": "code",
   "execution_count": 24,
   "metadata": {},
   "outputs": [],
   "source": [
    "# 이제 해야할 것은 모든 규칙을 만들어보고 그 규칙이 맞는 경우와 틀리는 경우 계산\n",
    "# (전제,결론) 쌍이므로 순서가 있는 상품의 쌍\n",
    "# 이를 위해 자료형은 딕셔너리 구조 사용 (참고자료: 소프트웨어공학_5주.pdf, p.28부터)\n",
    "# 기본 딕셔너리를 사용하지 않고 defaultdict를 사용\n",
    "# 파이썬 표준 라이브러리은 collections 패키지로부터 import\n",
    "\n",
    "from collections import defaultdict\n",
    "# Now compute for all possible rules\n",
    "valid_rules = defaultdict(int)   # value 가 int 값을 갖는 딕셔너리 선언, 각 규칙이 참인 샘플 개수를 저장\n",
    "invalid_rules = defaultdict(int) # value 가 int 값을 갖는 딕셔너리 선언, 각 규칙이 거짓인 샘플 개수를 저장\n",
    "num_occurences = defaultdict(int) # value 가 int 값을 갖는 딕셔너리 선언, 각 규칙의 전제가 발견되는 샘플 개수를 저장"
   ]
  },
  {
   "cell_type": "code",
   "execution_count": 25,
   "metadata": {},
   "outputs": [
    {
     "name": "stdout",
     "output_type": "stream",
     "text": [
      "defaultdict(<class 'int'>, {})\n"
     ]
    }
   ],
   "source": [
    "# 아무 데이터도 넣지 않은 defaultdict를 프린트해본다.\n",
    "# \n",
    "print(defaultdict(int))"
   ]
  },
  {
   "cell_type": "code",
   "execution_count": null,
   "metadata": {
    "collapsed": true
   },
   "outputs": [],
   "source": [
    "#앞으로 valid_rules에는 다음과 같은 자료가 저장될 것임 (데이터를 읽으면서)\n",
    "# {(0, 1): 13, (1, 2): 11} <----- 첫번째 요소: 상품0을 구매했을 때 상품1을 구매한 경우의 샘플 개수는 13개\n",
    "#                                 두번째 요소: 상품1을 상품을 구매했을 때 상품2를 구매한 경우의 샘플 개수는 11개    \n",
    "# 위의 딕셔너리에 모든 상품 쌍(순서있음)에 대한 요소들이 추가될 것임"
   ]
  },
  {
   "cell_type": "code",
   "execution_count": 31,
   "metadata": {},
   "outputs": [],
   "source": [
    "for sample in x:\n",
    "    for premise in range(len(features)):\n",
    "        if sample[premise] == 0: continue\n",
    "        # Record that the premise was bought in another transaction\n",
    "        num_occurences [premise] += 1\n",
    "        for conclusion in range(len(features)):\n",
    "            if premise == conclusion:  # It makes little sense to measure if X -> X.\n",
    "                continue\n",
    "            if sample[conclusion] == 1:\n",
    "                # This person also bought the conclusion item\n",
    "                valid_rules[(premise, conclusion)] += 1\n",
    "            else:\n",
    "                # This person bought the premise, but not the conclusion\n",
    "                invalid_rules[(premise, conclusion)] += 1\n",
    "support = valid_rules\n",
    "confidence = defaultdict(float)\n",
    "for premise, conclusion in valid_rules.keys():\n",
    "    confidence[(premise, conclusion)] = valid_rules[(premise, conclusion)] / float(num_occurences[premise])"
   ]
  },
  {
   "cell_type": "code",
   "execution_count": 44,
   "metadata": {},
   "outputs": [
    {
     "name": "stdout",
     "output_type": "stream",
     "text": [
      "0 1\n",
      "2 1\n",
      "3 1\n",
      "4 1\n",
      "1 0\n",
      "2 0\n",
      "3 0\n",
      "4 0\n",
      "0 2\n",
      "0 4\n",
      "1 2\n",
      "1 4\n",
      "2 4\n",
      "3 2\n",
      "3 4\n",
      "4 2\n",
      "0 3\n",
      "1 3\n",
      "2 3\n",
      "4 3\n",
      "dict_keys([(0, 1), (2, 1), (3, 1), (4, 1), (1, 0), (2, 0), (3, 0), (4, 0), (0, 2), (0, 4), (1, 2), (1, 4), (2, 4), (3, 2), (3, 4), (4, 2), (0, 3), (1, 3), (2, 3), (4, 3)])\n"
     ]
    }
   ],
   "source": [
    "for a, b in valid_rules.keys(): # equals to \"for a, b in valid_rules:\"\n",
    "    print(a, b)\n",
    "\n",
    "print(valid_rules.keys())"
   ]
  },
  {
   "cell_type": "code",
   "execution_count": 27,
   "metadata": {},
   "outputs": [
    {
     "name": "stdout",
     "output_type": "stream",
     "text": [
      "defaultdict(<class 'int'>, {(0, 1): 52, (2, 1): 52, (3, 1): 52, (4, 1): 52, (1, 0): 28, (2, 0): 28, (3, 0): 28, (4, 0): 28, (0, 2): 39, (0, 4): 57, (1, 2): 39, (1, 4): 57, (2, 4): 57, (3, 2): 39, (3, 4): 57, (4, 2): 39, (0, 3): 43, (1, 3): 43, (2, 3): 43, (4, 3): 43})\n"
     ]
    }
   ],
   "source": [
    "print(support)"
   ]
  },
  {
   "cell_type": "code",
   "execution_count": 26,
   "metadata": {},
   "outputs": [
    {
     "name": "stdout",
     "output_type": "stream",
     "text": [
      "defaultdict(<class 'float'>, {(0, 1): 0.7222222222222222, (2, 1): 0.8524590163934426, (3, 1): 0.9122807017543859, (4, 1): 1.2093023255813953, (1, 0): 0.5833333333333334, (2, 0): 0.45901639344262296, (3, 0): 0.49122807017543857, (4, 0): 0.6511627906976745, (0, 2): 0.5416666666666666, (0, 4): 0.7916666666666666, (1, 2): 0.8125, (1, 4): 1.1875, (2, 4): 0.9344262295081968, (3, 2): 0.6842105263157895, (3, 4): 1.0, (4, 2): 0.9069767441860465, (0, 3): 0.5972222222222222, (1, 3): 0.8958333333333334, (2, 3): 0.7049180327868853, (4, 3): 1.0})\n"
     ]
    }
   ],
   "source": [
    "print(confidence)"
   ]
  },
  {
   "cell_type": "code",
   "execution_count": 32,
   "metadata": {},
   "outputs": [
    {
     "name": "stdout",
     "output_type": "stream",
     "text": [
      "Rule: If a person buys bread they will also buy milk\n",
      "- Confidence: 0.583\n",
      "- Support: 91\n",
      "\n",
      "Rule: If a person buys cheese they will also buy milk\n",
      "- Confidence: 0.478\n",
      "- Support: 85\n",
      "\n",
      "Rule: If a person buys apples they will also buy milk\n",
      "- Confidence: 0.570\n",
      "- Support: 106\n",
      "\n",
      "Rule: If a person buys bananas they will also buy milk\n",
      "- Confidence: 0.621\n",
      "- Support: 133\n",
      "\n",
      "Rule: If a person buys milk they will also buy bread\n",
      "- Confidence: 0.328\n",
      "- Support: 67\n",
      "\n",
      "Rule: If a person buys cheese they will also buy bread\n",
      "- Confidence: 0.242\n",
      "- Support: 43\n",
      "\n",
      "Rule: If a person buys apples they will also buy bread\n",
      "- Confidence: 0.296\n",
      "- Support: 55\n",
      "\n",
      "Rule: If a person buys bananas they will also buy bread\n",
      "- Confidence: 0.355\n",
      "- Support: 76\n",
      "\n",
      "Rule: If a person buys bread they will also buy cheese\n",
      "- Confidence: 0.346\n",
      "- Support: 54\n",
      "\n",
      "Rule: If a person buys bread they will also buy bananas\n",
      "- Confidence: 0.673\n",
      "- Support: 105\n",
      "\n",
      "Rule: If a person buys milk they will also buy cheese\n",
      "- Confidence: 0.353\n",
      "- Support: 72\n",
      "\n",
      "Rule: If a person buys milk they will also buy bananas\n",
      "- Confidence: 0.676\n",
      "- Support: 138\n",
      "\n",
      "Rule: If a person buys cheese they will also buy bananas\n",
      "- Confidence: 0.657\n",
      "- Support: 117\n",
      "\n",
      "Rule: If a person buys apples they will also buy cheese\n",
      "- Confidence: 0.565\n",
      "- Support: 105\n",
      "\n",
      "Rule: If a person buys apples they will also buy bananas\n",
      "- Confidence: 0.742\n",
      "- Support: 138\n",
      "\n",
      "Rule: If a person buys bananas they will also buy cheese\n",
      "- Confidence: 0.463\n",
      "- Support: 99\n",
      "\n",
      "Rule: If a person buys bread they will also buy apples\n",
      "- Confidence: 0.449\n",
      "- Support: 70\n",
      "\n",
      "Rule: If a person buys milk they will also buy apples\n",
      "- Confidence: 0.475\n",
      "- Support: 97\n",
      "\n",
      "Rule: If a person buys cheese they will also buy apples\n",
      "- Confidence: 0.612\n",
      "- Support: 109\n",
      "\n",
      "Rule: If a person buys bananas they will also buy apples\n",
      "- Confidence: 0.579\n",
      "- Support: 124\n",
      "\n"
     ]
    }
   ],
   "source": [
    "# 규칙 출력\n",
    "for premise, conclusion in confidence:\n",
    "    premise_name = features[premise]\n",
    "    conclusion_name = features[conclusion]\n",
    "    print('Rule: If a person buys {0} they will also buy {1}'.format(premise_name, conclusion_name))\n",
    "    print('- Confidence: {0:.3f}'.format(confidence[premise, conclusion]))\n",
    "    print('- Support: {0}'.format(support[premise, conclusion]))\n",
    "    print('')"
   ]
  },
  {
   "cell_type": "code",
   "execution_count": 35,
   "metadata": {},
   "outputs": [],
   "source": [
    "# 특정 조건에 대해 출력하는 함수\n",
    "def print_rule(premise, conclusion, support, confidence, features):\n",
    "    premise_name = features[premise]\n",
    "    conclusion_name = features[conclusion]\n",
    "    print('Rule: If a person buys {0} they will also buy {1}'.format(premise_name, conclusion_name))\n",
    "    print('- Confidence: {0:.3f}'.format(confidence[premise, conclusion]))\n",
    "    print('- Support: {0}'.format(support[premise, conclusion]))\n",
    "    print('')"
   ]
  },
  {
   "cell_type": "code",
   "execution_count": 36,
   "metadata": {},
   "outputs": [
    {
     "name": "stdout",
     "output_type": "stream",
     "text": [
      "Rule: If a person buys milk they will also buy apples\n",
      "- Confidence: 0.475\n",
      "- Support: 97\n",
      "\n"
     ]
    }
   ],
   "source": [
    "premise = 1\n",
    "conclusion = 3\n",
    "print_rule(premise, conclusion, support, confidence, features)"
   ]
  },
  {
   "cell_type": "code",
   "execution_count": 37,
   "metadata": {},
   "outputs": [
    {
     "name": "stdout",
     "output_type": "stream",
     "text": [
      "[((0, 1), 91),\n",
      " ((2, 1), 85),\n",
      " ((3, 1), 106),\n",
      " ((4, 1), 133),\n",
      " ((1, 0), 67),\n",
      " ((2, 0), 43),\n",
      " ((3, 0), 55),\n",
      " ((4, 0), 76),\n",
      " ((0, 2), 54),\n",
      " ((0, 4), 105),\n",
      " ((1, 2), 72),\n",
      " ((1, 4), 138),\n",
      " ((2, 4), 117),\n",
      " ((3, 2), 105),\n",
      " ((3, 4), 138),\n",
      " ((4, 2), 99),\n",
      " ((0, 3), 70),\n",
      " ((1, 3), 97),\n",
      " ((2, 3), 109),\n",
      " ((4, 3), 124)]\n"
     ]
    }
   ],
   "source": [
    "# Sort by support (규칙 id 값으로)\n",
    "from pprint import pprint\n",
    "pprint(list(support.items()))"
   ]
  },
  {
   "cell_type": "code",
   "execution_count": 48,
   "metadata": {},
   "outputs": [
    {
     "name": "stdout",
     "output_type": "stream",
     "text": [
      "Rule #1\n",
      "Rule: If a person buys milk they will also buy bananas\n",
      "- Confidence: 0.676\n",
      "- Support: 138\n",
      "\n",
      "Rule #2\n",
      "Rule: If a person buys apples they will also buy bananas\n",
      "- Confidence: 0.742\n",
      "- Support: 138\n",
      "\n",
      "Rule #3\n",
      "Rule: If a person buys bananas they will also buy milk\n",
      "- Confidence: 0.621\n",
      "- Support: 133\n",
      "\n",
      "Rule #4\n",
      "Rule: If a person buys bananas they will also buy apples\n",
      "- Confidence: 0.579\n",
      "- Support: 124\n",
      "\n",
      "Rule #5\n",
      "Rule: If a person buys cheese they will also buy bananas\n",
      "- Confidence: 0.657\n",
      "- Support: 117\n",
      "\n"
     ]
    }
   ],
   "source": [
    "# Sort by support\n",
    "from operator import itemgetter\n",
    "sorted_support = sorted(support.items(), key=itemgetter(1), reverse=True)\n",
    "for index in range(5):\n",
    "    print(\"Rule #{0}\".format(index + 1))\n",
    "    (premise, conclusion) = sorted_support[index][0]\n",
    "    print_rule(premise, conclusion, support, confidence, features)"
   ]
  },
  {
   "cell_type": "code",
   "execution_count": 49,
   "metadata": {},
   "outputs": [
    {
     "name": "stdout",
     "output_type": "stream",
     "text": [
      "Rule #1\n",
      "Rule: If a person buys milk they will also buy bananas\n",
      "- Confidence: 0.676\n",
      "- Support: 138\n",
      "\n",
      "Rule #2\n",
      "Rule: If a person buys apples they will also buy bananas\n",
      "- Confidence: 0.742\n",
      "- Support: 138\n",
      "\n",
      "Rule #3\n",
      "Rule: If a person buys bananas they will also buy milk\n",
      "- Confidence: 0.621\n",
      "- Support: 133\n",
      "\n",
      "Rule #4\n",
      "Rule: If a person buys bananas they will also buy apples\n",
      "- Confidence: 0.579\n",
      "- Support: 124\n",
      "\n",
      "Rule #5\n",
      "Rule: If a person buys cheese they will also buy bananas\n",
      "- Confidence: 0.657\n",
      "- Support: 117\n",
      "\n"
     ]
    }
   ],
   "source": [
    "# Sort by confidence\n",
    "sorted_confidence = sorted(support.items(), key=itemgetter(1), reverse=True)\n",
    "for index in range(5):\n",
    "    print(\"Rule #{0}\".format(index + 1))\n",
    "    (premise, conclusion) = sorted_confidence[index][0]\n",
    "    print_rule(premise, conclusion, support, confidence, features)"
   ]
  },
  {
   "cell_type": "code",
   "execution_count": null,
   "metadata": {},
   "outputs": [],
   "source": []
  }
 ],
 "metadata": {
  "kernelspec": {
   "display_name": "Python 3",
   "language": "python",
   "name": "python3"
  },
  "language_info": {
   "codemirror_mode": {
    "name": "ipython",
    "version": 3
   },
   "file_extension": ".py",
   "mimetype": "text/x-python",
   "name": "python",
   "nbconvert_exporter": "python",
   "pygments_lexer": "ipython3",
   "version": "3.8.2"
  }
 },
 "nbformat": 4,
 "nbformat_minor": 2
}
