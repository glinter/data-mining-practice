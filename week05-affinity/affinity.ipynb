{
 "cells": [
  {
   "cell_type": "code",
   "execution_count": 2,
   "metadata": {},
   "outputs": [],
   "source": [
    "import numpy as np\n",
    "\n",
    "dataset_filename = 'affinity_dataset.txt'\n",
    "x = np.loadtxt(dataset_filename)"
   ]
  },
  {
   "cell_type": "code",
   "execution_count": 3,
   "metadata": {},
   "outputs": [
    {
     "name": "stdout",
     "output_type": "stream",
     "text": [
      "This dataset has 100 samples and 5 features\n",
      "[[0. 1. 0. 0. 0.]\n",
      " [1. 1. 0. 0. 0.]\n",
      " [0. 0. 1. 0. 1.]\n",
      " [1. 1. 0. 0. 0.]\n",
      " [0. 0. 1. 1. 1.]]\n"
     ]
    }
   ],
   "source": [
    "n_samples, n_features = x.shape\n",
    "print('This dataset has {0} samples and {1} features'.format(n_samples, n_features))\n",
    "print(x[:5])"
   ]
  },
  {
   "cell_type": "code",
   "execution_count": 4,
   "metadata": {},
   "outputs": [],
   "source": [
    "features = ['bread', 'milk', 'cheese', 'apples', 'bananas']"
   ]
  },
  {
   "cell_type": "code",
   "execution_count": 5,
   "metadata": {},
   "outputs": [
    {
     "name": "stdout",
     "output_type": "stream",
     "text": [
      "43 people bought Apples\n"
     ]
    }
   ],
   "source": [
    "num_apple_purchases = 0\n",
    "for sample in x:\n",
    "    if sample[3] == 1:\n",
    "        num_apple_purchases += 1\n",
    "print('{0} people bought Apples'.format(num_apple_purchases))"
   ]
  },
  {
   "cell_type": "code",
   "execution_count": 8,
   "metadata": {},
   "outputs": [
    {
     "name": "stdout",
     "output_type": "stream",
     "text": [
      "27 cheese of the rule being valid were discovered\n",
      "16 cheese of the rule being valid were discovered\n"
     ]
    }
   ],
   "source": [
    "rule_valid = 0\n",
    "rule_invalid = 0\n",
    "for sample in x:\n",
    "    if sample[3] == 1:\n",
    "        if sample[4] == 1:\n",
    "            rule_valid += 1\n",
    "        else:\n",
    "            rule_invalid += 1\n",
    "print('{0} cheese of the rule being valid were discovered'.format(rule_valid))\n",
    "print('{0} cheese of the rule being valid were discovered'.format(rule_invalid))"
   ]
  },
  {
   "cell_type": "code",
   "execution_count": 9,
   "metadata": {},
   "outputs": [
    {
     "name": "stdout",
     "output_type": "stream",
     "text": [
      "The support is 27 and the confidence is 0.628.\n",
      "As a percentage, that is 62.8%.\n"
     ]
    }
   ],
   "source": [
    "support = rule_valid\n",
    "confidence = rule_valid / float(num_apple_purchases)\n",
    "print('The support is {0} and the confidence is {1:.3f}.'.format(support, confidence))\n",
    "print('As a percentage, that is {0:.1f}%.'.format(100*confidence))"
   ]
  },
  {
   "cell_type": "code",
   "execution_count": 11,
   "metadata": {},
   "outputs": [],
   "source": [
    "from collections import defaultdict\n",
    "valid_rules = defaultdict(int)\n",
    "invalid_rules = defaultdict(int)\n",
    "num_occurences = defaultdict(int)\n",
    "\n",
    "for sample in x:\n",
    "    for premise in range(n_features):\n",
    "        if sample[premise] == 0:\n",
    "            num_occurences [premise] += 1\n",
    "        for conclusion in range(n_features):\n",
    "            if premise == conclusion:\n",
    "                continue\n",
    "            if sample[conclusion] == 1:\n",
    "                valid_rules[(premise, conclusion)] += 1\n",
    "            else:\n",
    "                invalid_rules[(premise, conclusion)] += 1\n",
    "support = valid_rules\n",
    "confidence = defaultdict(float)\n",
    "for premise, conclusion in valid_rules.keys():\n",
    "    confidence[(premise, conclusion)] = valid_rules[(premise, conclusion)] / float(num_occurences[premise])"
   ]
  },
  {
   "cell_type": "code",
   "execution_count": 12,
   "metadata": {},
   "outputs": [
    {
     "name": "stdout",
     "output_type": "stream",
     "text": [
      "defaultdict(<class 'int'>, {(0, 1): 52, (2, 1): 52, (3, 1): 52, (4, 1): 52, (1, 0): 28, (2, 0): 28, (3, 0): 28, (4, 0): 28, (0, 2): 39, (0, 4): 57, (1, 2): 39, (1, 4): 57, (2, 4): 57, (3, 2): 39, (3, 4): 57, (4, 2): 39, (0, 3): 43, (1, 3): 43, (2, 3): 43, (4, 3): 43})\n"
     ]
    }
   ],
   "source": [
    "print(support)"
   ]
  },
  {
   "cell_type": "code",
   "execution_count": 13,
   "metadata": {},
   "outputs": [
    {
     "name": "stdout",
     "output_type": "stream",
     "text": [
      "defaultdict(<class 'float'>, {(0, 1): 0.7222222222222222, (2, 1): 0.8524590163934426, (3, 1): 0.9122807017543859, (4, 1): 1.2093023255813953, (1, 0): 0.5833333333333334, (2, 0): 0.45901639344262296, (3, 0): 0.49122807017543857, (4, 0): 0.6511627906976745, (0, 2): 0.5416666666666666, (0, 4): 0.7916666666666666, (1, 2): 0.8125, (1, 4): 1.1875, (2, 4): 0.9344262295081968, (3, 2): 0.6842105263157895, (3, 4): 1.0, (4, 2): 0.9069767441860465, (0, 3): 0.5972222222222222, (1, 3): 0.8958333333333334, (2, 3): 0.7049180327868853, (4, 3): 1.0})\n"
     ]
    }
   ],
   "source": [
    "print(confidence)"
   ]
  },
  {
   "cell_type": "code",
   "execution_count": 14,
   "metadata": {},
   "outputs": [
    {
     "name": "stdout",
     "output_type": "stream",
     "text": [
      "Rule: If a person buys bread they will also buy milk\n",
      "- Confidence: 0.722\n",
      "- Support: 52\n",
      "\n",
      "Rule: If a person buys cheese they will also buy milk\n",
      "- Confidence: 0.852\n",
      "- Support: 52\n",
      "\n",
      "Rule: If a person buys apples they will also buy milk\n",
      "- Confidence: 0.912\n",
      "- Support: 52\n",
      "\n",
      "Rule: If a person buys bananas they will also buy milk\n",
      "- Confidence: 1.209\n",
      "- Support: 52\n",
      "\n",
      "Rule: If a person buys milk they will also buy bread\n",
      "- Confidence: 0.583\n",
      "- Support: 28\n",
      "\n",
      "Rule: If a person buys cheese they will also buy bread\n",
      "- Confidence: 0.459\n",
      "- Support: 28\n",
      "\n",
      "Rule: If a person buys apples they will also buy bread\n",
      "- Confidence: 0.491\n",
      "- Support: 28\n",
      "\n",
      "Rule: If a person buys bananas they will also buy bread\n",
      "- Confidence: 0.651\n",
      "- Support: 28\n",
      "\n",
      "Rule: If a person buys bread they will also buy cheese\n",
      "- Confidence: 0.542\n",
      "- Support: 39\n",
      "\n",
      "Rule: If a person buys bread they will also buy bananas\n",
      "- Confidence: 0.792\n",
      "- Support: 57\n",
      "\n",
      "Rule: If a person buys milk they will also buy cheese\n",
      "- Confidence: 0.812\n",
      "- Support: 39\n",
      "\n",
      "Rule: If a person buys milk they will also buy bananas\n",
      "- Confidence: 1.188\n",
      "- Support: 57\n",
      "\n",
      "Rule: If a person buys cheese they will also buy bananas\n",
      "- Confidence: 0.934\n",
      "- Support: 57\n",
      "\n",
      "Rule: If a person buys apples they will also buy cheese\n",
      "- Confidence: 0.684\n",
      "- Support: 39\n",
      "\n",
      "Rule: If a person buys apples they will also buy bananas\n",
      "- Confidence: 1.000\n",
      "- Support: 57\n",
      "\n",
      "Rule: If a person buys bananas they will also buy cheese\n",
      "- Confidence: 0.907\n",
      "- Support: 39\n",
      "\n",
      "Rule: If a person buys bread they will also buy apples\n",
      "- Confidence: 0.597\n",
      "- Support: 43\n",
      "\n",
      "Rule: If a person buys milk they will also buy apples\n",
      "- Confidence: 0.896\n",
      "- Support: 43\n",
      "\n",
      "Rule: If a person buys cheese they will also buy apples\n",
      "- Confidence: 0.705\n",
      "- Support: 43\n",
      "\n",
      "Rule: If a person buys bananas they will also buy apples\n",
      "- Confidence: 1.000\n",
      "- Support: 43\n",
      "\n"
     ]
    }
   ],
   "source": [
    "for premise, conclusion in confidence:\n",
    "    premise_name = features[premise]\n",
    "    conclusion_name = features[conclusion]\n",
    "    print('Rule: If a person buys {0} they will also buy {1}'.format(premise_name, conclusion_name))\n",
    "    print('- Confidence: {0:.3f}'.format(confidence[premise, conclusion]))\n",
    "    print('- Support: {0}'.format(support[premise, conclusion]))\n",
    "    print('')"
   ]
  },
  {
   "cell_type": "code",
   "execution_count": null,
   "metadata": {},
   "outputs": [],
   "source": []
  }
 ],
 "metadata": {
  "kernelspec": {
   "display_name": "Python 3",
   "language": "python",
   "name": "python3"
  },
  "language_info": {
   "codemirror_mode": {
    "name": "ipython",
    "version": 3
   },
   "file_extension": ".py",
   "mimetype": "text/x-python",
   "name": "python",
   "nbconvert_exporter": "python",
   "pygments_lexer": "ipython3",
   "version": "3.8.2"
  }
 },
 "nbformat": 4,
 "nbformat_minor": 4
}
